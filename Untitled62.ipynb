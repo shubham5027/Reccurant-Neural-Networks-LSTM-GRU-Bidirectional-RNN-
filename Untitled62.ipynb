{
  "nbformat": 4,
  "nbformat_minor": 0,
  "metadata": {
    "colab": {
      "provenance": [],
      "gpuType": "T4",
      "authorship_tag": "ABX9TyM8Pi8iY9gFgWJqjJAyTDYu",
      "include_colab_link": true
    },
    "kernelspec": {
      "name": "python3",
      "display_name": "Python 3"
    },
    "language_info": {
      "name": "python"
    },
    "accelerator": "GPU"
  },
  "cells": [
    {
      "cell_type": "markdown",
      "metadata": {
        "id": "view-in-github",
        "colab_type": "text"
      },
      "source": [
        "<a href=\"https://colab.research.google.com/github/shubham5027/Reccurant-Neural-Networks-LSTM-GRU-Bidirectional-RNN-/blob/main/Untitled62.ipynb\" target=\"_parent\"><img src=\"https://colab.research.google.com/assets/colab-badge.svg\" alt=\"Open In Colab\"/></a>"
      ]
    },
    {
      "cell_type": "code",
      "execution_count": 14,
      "metadata": {
        "id": "whU3StgkuedT"
      },
      "outputs": [],
      "source": [
        "from tensorflow import keras\n",
        "from keras.layers import SimpleRNN, Dense, Embedding,GRU, LSTM, Bidirectional\n",
        "from keras.datasets import imdb\n",
        "from keras.models import Sequential\n",
        "from keras.preprocessing.sequence import pad_sequences"
      ]
    },
    {
      "cell_type": "code",
      "source": [
        "(x_train,y_train),(x_test,y_test)=imdb.load_data(num_words=10000)\n",
        "x_train=pad_sequences(x_train,maxlen=100)\n",
        "x_test=pad_sequences(x_test,maxlen=100)"
      ],
      "metadata": {
        "colab": {
          "base_uri": "https://localhost:8080/"
        },
        "id": "2YYsgzz5v8s2",
        "outputId": "00d06e5e-0438-425a-a5d6-cd5c95b84f58"
      },
      "execution_count": 2,
      "outputs": [
        {
          "output_type": "stream",
          "name": "stdout",
          "text": [
            "Downloading data from https://storage.googleapis.com/tensorflow/tf-keras-datasets/imdb.npz\n",
            "17464789/17464789 [==============================] - 2s 0us/step\n"
          ]
        }
      ]
    },
    {
      "cell_type": "markdown",
      "source": [
        "#Simple RNN (Recurent Neural Network)"
      ],
      "metadata": {
        "id": "Hlryh9StkQjA"
      }
    },
    {
      "cell_type": "code",
      "source": [
        "model=Sequential([\n",
        "    Embedding(10000,32,input_length=100),\n",
        "    SimpleRNN(5),\n",
        "    Dense(1,activation='sigmoid')\n",
        "])"
      ],
      "metadata": {
        "id": "iprxCaQSkbUv"
      },
      "execution_count": null,
      "outputs": []
    },
    {
      "cell_type": "markdown",
      "source": [
        "#Deep or Stacked RNN (Recurrent Neural Netowrks)"
      ],
      "metadata": {
        "id": "ldDKbCxuidp8"
      }
    },
    {
      "cell_type": "code",
      "source": [
        "model=Sequential([\n",
        "    Embedding(10000,32,input_length=100),\n",
        "    SimpleRNN(5,return_sequences=True), #Two RNN LAyers (Stacked RNN or DEEP RNN)\n",
        "    SimpleRNN(5),\n",
        "    SimpleRNN(5),\n",
        "    Dense(1,activation='sigmoid')\n",
        "])"
      ],
      "metadata": {
        "id": "HPTgOtp-wZjO"
      },
      "execution_count": 3,
      "outputs": []
    },
    {
      "cell_type": "markdown",
      "source": [
        "#Bidirectional RNN (Recurrent Neural Network)"
      ],
      "metadata": {
        "id": "CXketNlGjy_4"
      }
    },
    {
      "cell_type": "code",
      "source": [
        "model=Sequential([\n",
        "    Embedding(10000,32,input_length=100),\n",
        "    Bidirectional(SimpleRNN(5)),\n",
        "    Dense(1,activation='sigmoid')\n",
        "])"
      ],
      "metadata": {
        "id": "Q8kQUqexj3iR"
      },
      "execution_count": null,
      "outputs": []
    },
    {
      "cell_type": "markdown",
      "source": [
        "#GRU RNN (Gated Recurrent Unit)"
      ],
      "metadata": {
        "id": "T6WZVianhrSo"
      }
    },
    {
      "cell_type": "code",
      "source": [
        "model=Sequential([\n",
        "    Embedding(10000,32,input_length=100),\n",
        "    GRU(5,return_sequences=True), #Two GRU LAyers (Stacked RNN or DEEP RNN)\n",
        "    GRU(5),                       #this one also\n",
        "    Dense(1,activation='sigmoid')\n",
        "])"
      ],
      "metadata": {
        "id": "5X11--Wth3qp"
      },
      "execution_count": null,
      "outputs": []
    },
    {
      "cell_type": "markdown",
      "source": [
        "#LSTM (Long Short Term Memory)"
      ],
      "metadata": {
        "id": "MEi0nkp_iKJ3"
      }
    },
    {
      "cell_type": "code",
      "source": [
        "model=Sequential([\n",
        "    Embedding(10000,32,input_length=100),\n",
        "    LSTM(5,return_sequences=True), #Two LSTM LAyers (Stacked RNN or DEEP RNN)\n",
        "    LSTM(5),                       #this one also\n",
        "    Dense(1,activation='sigmoid')\n",
        "])"
      ],
      "metadata": {
        "id": "ojmOZYKViJM5"
      },
      "execution_count": null,
      "outputs": []
    },
    {
      "cell_type": "code",
      "source": [
        "model.summary()"
      ],
      "metadata": {
        "id": "bkONxqNDindK"
      },
      "execution_count": null,
      "outputs": []
    },
    {
      "cell_type": "code",
      "source": [
        "model.compile(optimizer='adam',loss='binary_crossentropy',metrics=['accuarcy'],run_eagerly=True)"
      ],
      "metadata": {
        "id": "_Hlk4rlbippv"
      },
      "execution_count": null,
      "outputs": []
    },
    {
      "cell_type": "code",
      "source": [
        "history=model.fit(x_train,list(y_train),epochs=10)"
      ],
      "metadata": {
        "id": "ONl0kpSqisej"
      },
      "execution_count": null,
      "outputs": []
    }
  ]
}